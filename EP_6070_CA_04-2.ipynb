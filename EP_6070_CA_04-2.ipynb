{
  "nbformat": 4,
  "nbformat_minor": 0,
  "metadata": {
    "colab": {
      "provenance": []
    },
    "kernelspec": {
      "name": "python3",
      "display_name": "Python 3"
    },
    "language_info": {
      "name": "python"
    }
  },
  "cells": [
    {
      "cell_type": "markdown",
      "source": [
        "# **Data Source and Contents**"
      ],
      "metadata": {
        "id": "7zhyUjbsVF_M"
      }
    },
    {
      "cell_type": "code",
      "source": [
        "#Importing the necessary packages\n",
        "import matplotlib.pyplot as plt\n",
        "import pandas as pd\n",
        "import numpy as np\n",
        "from sklearn import tree\n",
        "from sklearn.datasets import load_iris\n",
        "from sklearn.tree import DecisionTreeClassifier\n",
        "import pydotplus\n",
        "from io import StringIO\n",
        "from sklearn import metrics\n",
        "from sklearn.metrics import accuracy_score\n",
        "from sklearn.metrics import roc_curve\n",
        "from sklearn.metrics import roc_auc_score\n",
        "from pandas.core.common import random_state\n",
        "from sklearn.ensemble import RandomForestClassifier\n",
        "from sklearn.ensemble import AdaBoostClassifier\n",
        "from sklearn.ensemble import GradientBoostingClassifier\n",
        "import xgboost as xgb\n",
        "from xgboost import XGBClassifier\n",
        "import re"
      ],
      "metadata": {
        "id": "ny5oh52MJNWf"
      },
      "execution_count": 2,
      "outputs": []
    },
    {
      "cell_type": "code",
      "source": [
        "#Selecting the same data file from CA-03 and reading it into a dataframe\n",
        "census = pd.read_csv('https://github.com/ArinB/MSBA-CA-03-Decision-Trees/blob/master/census_data.csv?raw=true')"
      ],
      "metadata": {
        "id": "oaxmDI5GUp55"
      },
      "execution_count": 4,
      "outputs": []
    },
    {
      "cell_type": "code",
      "source": [
        "#Viewing some initial samples\n",
        "census.head()"
      ],
      "metadata": {
        "colab": {
          "base_uri": "https://localhost:8080/",
          "height": 204
        },
        "id": "xSq2qiSKUuTc",
        "outputId": "d6c4746b-a310-4078-92ee-5e2eae2cf224"
      },
      "execution_count": 5,
      "outputs": [
        {
          "output_type": "execute_result",
          "data": {
            "text/plain": [
              "  hours_per_week_bin occupation_bin  msr_bin capital_gl_bin race_sex_bin  \\\n",
              "0           b. 31-40   b. Mid - Low   b. Mid         c. > 0      c. High   \n",
              "1            a. 0-30        e. High  c. High         a. = 0      c. High   \n",
              "2           b. 31-40         a. Low   b. Mid         a. = 0      c. High   \n",
              "3           b. 31-40         a. Low  c. High         a. = 0       b. Mid   \n",
              "4           b. 31-40        e. High  c. High         a. = 0       a. Low   \n",
              "\n",
              "  education_num_bin education_bin workclass_bin            age_bin   flag  y  \n",
              "0             c. 13  c. Bachelors     b. income   d. 36-40 & 56-60  train  0  \n",
              "1             c. 13  c. Bachelors     b. income           e. 40-55  train  0  \n",
              "2           b. 9-12        b. Mid     b. income   d. 36-40 & 56-60  train  0  \n",
              "3            a. 0-8        a. Low     b. income           e. 40-55  train  0  \n",
              "4             c. 13  c. Bachelors     b. income  b. 26-30 & 71-100  train  0  "
            ],
            "text/html": [
              "\n",
              "  <div id=\"df-310866fd-244d-4102-9570-2a9e1380b573\">\n",
              "    <div class=\"colab-df-container\">\n",
              "      <div>\n",
              "<style scoped>\n",
              "    .dataframe tbody tr th:only-of-type {\n",
              "        vertical-align: middle;\n",
              "    }\n",
              "\n",
              "    .dataframe tbody tr th {\n",
              "        vertical-align: top;\n",
              "    }\n",
              "\n",
              "    .dataframe thead th {\n",
              "        text-align: right;\n",
              "    }\n",
              "</style>\n",
              "<table border=\"1\" class=\"dataframe\">\n",
              "  <thead>\n",
              "    <tr style=\"text-align: right;\">\n",
              "      <th></th>\n",
              "      <th>hours_per_week_bin</th>\n",
              "      <th>occupation_bin</th>\n",
              "      <th>msr_bin</th>\n",
              "      <th>capital_gl_bin</th>\n",
              "      <th>race_sex_bin</th>\n",
              "      <th>education_num_bin</th>\n",
              "      <th>education_bin</th>\n",
              "      <th>workclass_bin</th>\n",
              "      <th>age_bin</th>\n",
              "      <th>flag</th>\n",
              "      <th>y</th>\n",
              "    </tr>\n",
              "  </thead>\n",
              "  <tbody>\n",
              "    <tr>\n",
              "      <th>0</th>\n",
              "      <td>b. 31-40</td>\n",
              "      <td>b. Mid - Low</td>\n",
              "      <td>b. Mid</td>\n",
              "      <td>c. &gt; 0</td>\n",
              "      <td>c. High</td>\n",
              "      <td>c. 13</td>\n",
              "      <td>c. Bachelors</td>\n",
              "      <td>b. income</td>\n",
              "      <td>d. 36-40 &amp; 56-60</td>\n",
              "      <td>train</td>\n",
              "      <td>0</td>\n",
              "    </tr>\n",
              "    <tr>\n",
              "      <th>1</th>\n",
              "      <td>a. 0-30</td>\n",
              "      <td>e. High</td>\n",
              "      <td>c. High</td>\n",
              "      <td>a. = 0</td>\n",
              "      <td>c. High</td>\n",
              "      <td>c. 13</td>\n",
              "      <td>c. Bachelors</td>\n",
              "      <td>b. income</td>\n",
              "      <td>e. 40-55</td>\n",
              "      <td>train</td>\n",
              "      <td>0</td>\n",
              "    </tr>\n",
              "    <tr>\n",
              "      <th>2</th>\n",
              "      <td>b. 31-40</td>\n",
              "      <td>a. Low</td>\n",
              "      <td>b. Mid</td>\n",
              "      <td>a. = 0</td>\n",
              "      <td>c. High</td>\n",
              "      <td>b. 9-12</td>\n",
              "      <td>b. Mid</td>\n",
              "      <td>b. income</td>\n",
              "      <td>d. 36-40 &amp; 56-60</td>\n",
              "      <td>train</td>\n",
              "      <td>0</td>\n",
              "    </tr>\n",
              "    <tr>\n",
              "      <th>3</th>\n",
              "      <td>b. 31-40</td>\n",
              "      <td>a. Low</td>\n",
              "      <td>c. High</td>\n",
              "      <td>a. = 0</td>\n",
              "      <td>b. Mid</td>\n",
              "      <td>a. 0-8</td>\n",
              "      <td>a. Low</td>\n",
              "      <td>b. income</td>\n",
              "      <td>e. 40-55</td>\n",
              "      <td>train</td>\n",
              "      <td>0</td>\n",
              "    </tr>\n",
              "    <tr>\n",
              "      <th>4</th>\n",
              "      <td>b. 31-40</td>\n",
              "      <td>e. High</td>\n",
              "      <td>c. High</td>\n",
              "      <td>a. = 0</td>\n",
              "      <td>a. Low</td>\n",
              "      <td>c. 13</td>\n",
              "      <td>c. Bachelors</td>\n",
              "      <td>b. income</td>\n",
              "      <td>b. 26-30 &amp; 71-100</td>\n",
              "      <td>train</td>\n",
              "      <td>0</td>\n",
              "    </tr>\n",
              "  </tbody>\n",
              "</table>\n",
              "</div>\n",
              "      <button class=\"colab-df-convert\" onclick=\"convertToInteractive('df-310866fd-244d-4102-9570-2a9e1380b573')\"\n",
              "              title=\"Convert this dataframe to an interactive table.\"\n",
              "              style=\"display:none;\">\n",
              "        \n",
              "  <svg xmlns=\"http://www.w3.org/2000/svg\" height=\"24px\"viewBox=\"0 0 24 24\"\n",
              "       width=\"24px\">\n",
              "    <path d=\"M0 0h24v24H0V0z\" fill=\"none\"/>\n",
              "    <path d=\"M18.56 5.44l.94 2.06.94-2.06 2.06-.94-2.06-.94-.94-2.06-.94 2.06-2.06.94zm-11 1L8.5 8.5l.94-2.06 2.06-.94-2.06-.94L8.5 2.5l-.94 2.06-2.06.94zm10 10l.94 2.06.94-2.06 2.06-.94-2.06-.94-.94-2.06-.94 2.06-2.06.94z\"/><path d=\"M17.41 7.96l-1.37-1.37c-.4-.4-.92-.59-1.43-.59-.52 0-1.04.2-1.43.59L10.3 9.45l-7.72 7.72c-.78.78-.78 2.05 0 2.83L4 21.41c.39.39.9.59 1.41.59.51 0 1.02-.2 1.41-.59l7.78-7.78 2.81-2.81c.8-.78.8-2.07 0-2.86zM5.41 20L4 18.59l7.72-7.72 1.47 1.35L5.41 20z\"/>\n",
              "  </svg>\n",
              "      </button>\n",
              "      \n",
              "  <style>\n",
              "    .colab-df-container {\n",
              "      display:flex;\n",
              "      flex-wrap:wrap;\n",
              "      gap: 12px;\n",
              "    }\n",
              "\n",
              "    .colab-df-convert {\n",
              "      background-color: #E8F0FE;\n",
              "      border: none;\n",
              "      border-radius: 50%;\n",
              "      cursor: pointer;\n",
              "      display: none;\n",
              "      fill: #1967D2;\n",
              "      height: 32px;\n",
              "      padding: 0 0 0 0;\n",
              "      width: 32px;\n",
              "    }\n",
              "\n",
              "    .colab-df-convert:hover {\n",
              "      background-color: #E2EBFA;\n",
              "      box-shadow: 0px 1px 2px rgba(60, 64, 67, 0.3), 0px 1px 3px 1px rgba(60, 64, 67, 0.15);\n",
              "      fill: #174EA6;\n",
              "    }\n",
              "\n",
              "    [theme=dark] .colab-df-convert {\n",
              "      background-color: #3B4455;\n",
              "      fill: #D2E3FC;\n",
              "    }\n",
              "\n",
              "    [theme=dark] .colab-df-convert:hover {\n",
              "      background-color: #434B5C;\n",
              "      box-shadow: 0px 1px 3px 1px rgba(0, 0, 0, 0.15);\n",
              "      filter: drop-shadow(0px 1px 2px rgba(0, 0, 0, 0.3));\n",
              "      fill: #FFFFFF;\n",
              "    }\n",
              "  </style>\n",
              "\n",
              "      <script>\n",
              "        const buttonEl =\n",
              "          document.querySelector('#df-310866fd-244d-4102-9570-2a9e1380b573 button.colab-df-convert');\n",
              "        buttonEl.style.display =\n",
              "          google.colab.kernel.accessAllowed ? 'block' : 'none';\n",
              "\n",
              "        async function convertToInteractive(key) {\n",
              "          const element = document.querySelector('#df-310866fd-244d-4102-9570-2a9e1380b573');\n",
              "          const dataTable =\n",
              "            await google.colab.kernel.invokeFunction('convertToInteractive',\n",
              "                                                     [key], {});\n",
              "          if (!dataTable) return;\n",
              "\n",
              "          const docLinkHtml = 'Like what you see? Visit the ' +\n",
              "            '<a target=\"_blank\" href=https://colab.research.google.com/notebooks/data_table.ipynb>data table notebook</a>'\n",
              "            + ' to learn more about interactive tables.';\n",
              "          element.innerHTML = '';\n",
              "          dataTable['output_type'] = 'display_data';\n",
              "          await google.colab.output.renderOutput(dataTable, element);\n",
              "          const docLink = document.createElement('div');\n",
              "          docLink.innerHTML = docLinkHtml;\n",
              "          element.appendChild(docLink);\n",
              "        }\n",
              "      </script>\n",
              "    </div>\n",
              "  </div>\n",
              "  "
            ]
          },
          "metadata": {},
          "execution_count": 5
        }
      ]
    },
    {
      "cell_type": "code",
      "source": [
        "#Viewing how many rows and columns exist in the data file\n",
        "census.shape"
      ],
      "metadata": {
        "colab": {
          "base_uri": "https://localhost:8080/"
        },
        "id": "NUn5HvNbVR7M",
        "outputId": "6998e49d-c5e4-4909-c7b6-98ce9d1317d4"
      },
      "execution_count": 6,
      "outputs": [
        {
          "output_type": "execute_result",
          "data": {
            "text/plain": [
              "(48842, 11)"
            ]
          },
          "metadata": {},
          "execution_count": 6
        }
      ]
    },
    {
      "cell_type": "code",
      "source": [
        "#Viewing the number of data entries\n",
        "census.count()"
      ],
      "metadata": {
        "colab": {
          "base_uri": "https://localhost:8080/"
        },
        "id": "8LiGhi41VS2n",
        "outputId": "00e4448d-0577-4a4f-8926-43182f3a7f6f"
      },
      "execution_count": 7,
      "outputs": [
        {
          "output_type": "execute_result",
          "data": {
            "text/plain": [
              "hours_per_week_bin    48842\n",
              "occupation_bin        48842\n",
              "msr_bin               48842\n",
              "capital_gl_bin        48842\n",
              "race_sex_bin          48842\n",
              "education_num_bin     48842\n",
              "education_bin         48842\n",
              "workclass_bin         48842\n",
              "age_bin               48842\n",
              "flag                  48842\n",
              "y                     48842\n",
              "dtype: int64"
            ]
          },
          "metadata": {},
          "execution_count": 7
        }
      ]
    },
    {
      "cell_type": "code",
      "source": [
        "#Separating data into test and training dataframes \n",
        "train_data = census[census['flag']== 'train']\n",
        "test_data = census[census['flag']== 'test']"
      ],
      "metadata": {
        "id": "QPhdE5ZyV1KX"
      },
      "execution_count": 9,
      "outputs": []
    },
    {
      "cell_type": "code",
      "source": [
        "#Binning categorical variables to organize them in the dataset\n",
        "categorical = ['age_bin', 'capital_gl_bin', 'education_bin', 'hours_per_week_bin', 'msr_bin','race_sex_bin','occupation_bin']"
      ],
      "metadata": {
        "id": "ZSb3XuXyV8Dv"
      },
      "execution_count": 10,
      "outputs": []
    },
    {
      "cell_type": "code",
      "source": [
        "#Creating dummies for test data\n",
        "y_test = test_data['y']\n",
        "\n",
        "x_test = test_data[['age_bin', 'capital_gl_bin', 'education_bin','hours_per_week_bin', 'msr_bin', 'occupation_bin', 'race_sex_bin']]\n",
        "\n",
        "x_test = pd.get_dummies(x_test, columns=categorical, drop_first=True)\n",
        "\n",
        "#Creating dummies for train data\n",
        "y_train = train_data['y']\n",
        "\n",
        "x_train = train_data[['age_bin', 'capital_gl_bin', 'education_bin','hours_per_week_bin', 'msr_bin', 'occupation_bin', 'race_sex_bin']]\n",
        "\n",
        "x_train = pd.get_dummies(x_train, columns=categorical, drop_first=True)"
      ],
      "metadata": {
        "id": "-g51iWo8WVyY"
      },
      "execution_count": 11,
      "outputs": []
    },
    {
      "cell_type": "markdown",
      "source": [
        "# **Finding Optimal Value of a Key Hyper-Parameter**"
      ],
      "metadata": {
        "id": "-GoUp-cUVX0m"
      }
    },
    {
      "cell_type": "code",
      "source": [
        "#Evaluating the performance of a decision tree classifier model with different values of the max_depth parameter\n",
        "results = []\n",
        "max_depth_options = [2,4,6,8,10,12,14,16,18,20]\n",
        "for trees in max_depth_options:\n",
        "    model = DecisionTreeClassifier(max_depth=trees, random_state=101)\n",
        "    model.fit(x_train, y_train)\n",
        "    y_pred = model.predict(x_test)\n",
        "    accuracy = np.mean(y_test==y_pred)\n",
        "    results.append(accuracy)\n",
        "\n",
        "plt.figure(figsize=(8,4))\n",
        "pd.Series(results, max_depth_options).plot(color='darkred',marker='o', grid=True)"
      ],
      "metadata": {
        "colab": {
          "base_uri": "https://localhost:8080/",
          "height": 282
        },
        "id": "jYhjnUBuVjnb",
        "outputId": "8a9b077a-e245-4da0-fa18-4e8a613cdc0d"
      },
      "execution_count": 12,
      "outputs": [
        {
          "output_type": "execute_result",
          "data": {
            "text/plain": [
              "<AxesSubplot:>"
            ]
          },
          "metadata": {},
          "execution_count": 12
        },
        {
          "output_type": "display_data",
          "data": {
            "text/plain": [
              "<Figure size 576x288 with 1 Axes>"
            ],
            "image/png": "[encoded data removed]"
          },
          "metadata": {
            "needs_background": "light"
          }
        }
      ]
    },
    {
      "cell_type": "markdown",
      "source": [
        "The trend indicate that the accuracy is quite horrible in the beginning but gets better towards the middle, peaking at 10. Thus, 10 is the optimal value here, as it shows the highest accuracy at this point."
      ],
      "metadata": {
        "id": "O_lfmE3pdyLH"
      }
    },
    {
      "cell_type": "markdown",
      "source": [
        "# **Building a Random Forest Model**"
      ],
      "metadata": {
        "id": "-RgjwQn5W9R2"
      }
    },
    {
      "cell_type": "code",
      "source": [
        "#Evaluating the performance of a random forest classifier model with different values of the max_depth parameter\n",
        "results = []\n",
        "max_depth_options = [50,100,150,200,250,300,350,400,450,500]\n",
        "for trees in max_depth_options:\n",
        "    model = RandomForestClassifier(n_estimators=trees, random_state=0)\n",
        "    model.fit(x_train, y_train)\n",
        "    y_pred = model.predict(x_test)\n",
        "    accuracy = np.mean(y_test==y_pred)\n",
        "    results.append(accuracy)\n",
        "\n",
        "plt.figure(figsize=(8,4))\n",
        "pd.Series(results, max_depth_options).plot(color='darkgreen',marker='o', grid=True)"
      ],
      "metadata": {
        "colab": {
          "base_uri": "https://localhost:8080/",
          "height": 282
        },
        "id": "zdmkdXmjXBSr",
        "outputId": "01c75f0e-88f7-4379-e5c1-523644c90b45"
      },
      "execution_count": 26,
      "outputs": [
        {
          "output_type": "execute_result",
          "data": {
            "text/plain": [
              "<AxesSubplot:>"
            ]
          },
          "metadata": {},
          "execution_count": 26
        },
        {
          "output_type": "display_data",
          "data": {
            "text/plain": [
              "<Figure size 576x288 with 1 Axes>"
            ],
            "image/png": "[encoded data removed]"
          },
          "metadata": {
            "needs_background": "light"
          }
        }
      ]
    },
    {
      "cell_type": "markdown",
      "source": [
        "Once again, we are off to a bad start with the model, but significant improvement is seen in the next point, only for it to nosedive again. However, a more stable trend of improvement begins afterwards, and the best thus optimal decision tree in this model is at 500.\n",
        "\n",
        "\n",
        "\n"
      ],
      "metadata": {
        "id": "n4MiYCVyX5BB"
      }
    },
    {
      "cell_type": "markdown",
      "source": [
        "# **Building AdaBoost, Gradient Boost (classifier) and XGB Model**"
      ],
      "metadata": {
        "id": "CX2N1KAIXu2D"
      }
    },
    {
      "cell_type": "markdown",
      "source": [
        "# Adaboost"
      ],
      "metadata": {
        "id": "5ooyeprHZi10"
      }
    },
    {
      "cell_type": "code",
      "source": [
        "#Evaluating the performance of an AdaBoost classifier model with different values\n",
        "accuracy_scores = []\n",
        "n_estimator = [50,100,150,200,250,300,350,400,450,500]\n",
        "for items in n_estimator:\n",
        "  admodel = AdaBoostClassifier(random_state =0, n_estimators = items)\n",
        "  admodel.fit(x_train, y_train)\n",
        "  y_pred = admodel.predict(x_test)\n",
        "  accuracy = np.mean(y_test==y_pred)\n",
        "  accuracy_scores.append(accuracy)\n",
        "\n",
        "plt.figure(figsize=(8,4))\n",
        "pd.Series(accuracy_scores, n_estimator).plot(color='orange', marker = 'o', grid=True)"
      ],
      "metadata": {
        "colab": {
          "base_uri": "https://localhost:8080/",
          "height": 282
        },
        "id": "M3J8RAUYX4UW",
        "outputId": "5be298c8-7aa2-4cd6-e575-31ce32178f19"
      },
      "execution_count": 29,
      "outputs": [
        {
          "output_type": "execute_result",
          "data": {
            "text/plain": [
              "<AxesSubplot:>"
            ]
          },
          "metadata": {},
          "execution_count": 29
        },
        {
          "output_type": "display_data",
          "data": {
            "text/plain": [
              "<Figure size 576x288 with 1 Axes>"
            ],
            "image/png": "[encoded data removed]"
          },
          "metadata": {
            "needs_background": "light"
          }
        }
      ]
    },
    {
      "cell_type": "markdown",
      "source": [
        "The model makes a significant spike early on and peaks early at an optimal value of 150."
      ],
      "metadata": {
        "id": "nY24GjnRoj-b"
      }
    },
    {
      "cell_type": "markdown",
      "source": [
        "# Gradient Boost"
      ],
      "metadata": {
        "id": "iZr3GRiDZZ-6"
      }
    },
    {
      "cell_type": "code",
      "source": [
        "#Evaluating the performance of a Gradient Boost classifier model with different values\n",
        "accuracy_scores = []\n",
        "n_estimator = [50,100,150,200,250,300,350,400,450,500]\n",
        "for items in n_estimator:\n",
        "  gmodel = GradientBoostingClassifier(random_state =0, n_estimators = items)\n",
        "  gmodel.fit(x_train, y_train)\n",
        "  y_pred = gmodel.predict(x_test)\n",
        "  accuracy = np.mean(y_test==y_pred)\n",
        "  accuracy_scores.append(accuracy)\n",
        "\n",
        "plt.figure(figsize=(8,4))\n",
        "pd.Series(accuracy_scores, n_estimator).plot(color='purple', marker = 'o', grid=True)"
      ],
      "metadata": {
        "colab": {
          "base_uri": "https://localhost:8080/",
          "height": 282
        },
        "id": "SdSKJmlkY_g2",
        "outputId": "60659426-ebde-4bdc-f578-68b86ea89724"
      },
      "execution_count": 31,
      "outputs": [
        {
          "output_type": "execute_result",
          "data": {
            "text/plain": [
              "<AxesSubplot:>"
            ]
          },
          "metadata": {},
          "execution_count": 31
        },
        {
          "output_type": "display_data",
          "data": {
            "text/plain": [
              "<Figure size 576x288 with 1 Axes>"
            ],
            "image/png": "[encoded data removed]"
          },
          "metadata": {
            "needs_background": "light"
          }
        }
      ]
    },
    {
      "cell_type": "markdown",
      "source": [
        "The model is mostly consistent throughout its course and reaches its optimal value at 250."
      ],
      "metadata": {
        "id": "t8XYs3nR1qr9"
      }
    },
    {
      "cell_type": "markdown",
      "source": [
        "# XGB Model"
      ],
      "metadata": {
        "id": "mPqR0Wm-Zlf4"
      }
    },
    {
      "cell_type": "code",
      "source": [
        "#Installing XGBoost classifier\n",
        "!pip install xgboost"
      ],
      "metadata": {
        "colab": {
          "base_uri": "https://localhost:8080/"
        },
        "id": "g41UV4PzZ4MA",
        "outputId": "4c7de3f8-82e3-422e-8a28-77bc55d2905a"
      },
      "execution_count": 33,
      "outputs": [
        {
          "output_type": "stream",
          "name": "stdout",
          "text": [
            "Looking in indexes: https://pypi.org/simple, https://us-python.pkg.dev/colab-wheels/public/simple/\n",
            "Requirement already satisfied: xgboost in /usr/local/lib/python3.8/dist-packages (0.90)\n",
            "Requirement already satisfied: numpy in /usr/local/lib/python3.8/dist-packages (from xgboost) (1.22.4)\n",
            "Requirement already satisfied: scipy in /usr/local/lib/python3.8/dist-packages (from xgboost) (1.7.3)\n"
          ]
        }
      ]
    },
    {
      "cell_type": "code",
      "source": [
        "#Importing the datasets module from the scikit-learn library for xgb usage\n",
        "from sklearn import datasets\n",
        "import xgboost as xgb"
      ],
      "metadata": {
        "id": "z4_Q9ysBZ7Wd"
      },
      "execution_count": 34,
      "outputs": []
    },
    {
      "cell_type": "code",
      "source": [
        "#Importing the re module\n",
        "import re\n",
        "\n",
        "regex = re.compile(r\"\\[|\\]|<\", re.IGNORECASE)"
      ],
      "metadata": {
        "id": "4tP4EaFJbLNB"
      },
      "execution_count": 35,
      "outputs": []
    },
    {
      "cell_type": "code",
      "source": [
        "#Cleaning the data by dropping commas and the < symbol to run xgboost without errors\n",
        "x_train.columns = [regex.sub(\"_\", col) if any(x in str(col) for x in set(('[', ']', '<'))) else col for col in x_train.columns.values]"
      ],
      "metadata": {
        "id": "J3f8PBzjFaAV"
      },
      "execution_count": 37,
      "outputs": []
    },
    {
      "cell_type": "code",
      "source": [
        "#Renaming the column names in the dataframe\n",
        "x_test.columns = [regex.sub(\"_\", col) if any(x in str(col) for x in set(('[', ']', '<'))) else col for col in x_test.columns.values]"
      ],
      "metadata": {
        "id": "iQBeNw8IGXOn"
      },
      "execution_count": 38,
      "outputs": []
    },
    {
      "cell_type": "code",
      "source": [
        "#Modifying the census dataframe to replace all occurrences of ', '  with < \n",
        "census=census.replace(', ','<',regex=True).astype(str)"
      ],
      "metadata": {
        "id": "Ms4d4yVIFn2Z"
      },
      "execution_count": 39,
      "outputs": []
    },
    {
      "cell_type": "code",
      "source": [
        "#Viewing the top few rows of the test data\n",
        "x_test.head()"
      ],
      "metadata": {
        "colab": {
          "base_uri": "https://localhost:8080/",
          "height": 331
        },
        "id": "J-avHqUSGMCZ",
        "outputId": "08867e07-8224-446b-b195-aa5f763d52d0"
      },
      "execution_count": 40,
      "outputs": [
        {
          "output_type": "execute_result",
          "data": {
            "text/plain": [
              "       age_bin_b. 26-30 & 71-100  age_bin_c. 31-35 & 61-70  \\\n",
              "32561                          0                         0   \n",
              "32562                          0                         0   \n",
              "32563                          1                         0   \n",
              "32564                          0                         0   \n",
              "32565                          0                         0   \n",
              "\n",
              "       age_bin_d. 36-40 & 56-60  age_bin_e. 40-55  capital_gl_bin_b. _ 0  \\\n",
              "32561                         0                 0                      0   \n",
              "32562                         1                 0                      0   \n",
              "32563                         0                 0                      0   \n",
              "32564                         0                 1                      0   \n",
              "32565                         0                 0                      0   \n",
              "\n",
              "       capital_gl_bin_c. > 0  education_bin_b. Mid  \\\n",
              "32561                      0                     0   \n",
              "32562                      0                     1   \n",
              "32563                      0                     1   \n",
              "32564                      1                     1   \n",
              "32565                      0                     1   \n",
              "\n",
              "       education_bin_c. Bachelors  education_bin_d. Masters  \\\n",
              "32561                           0                         0   \n",
              "32562                           0                         0   \n",
              "32563                           0                         0   \n",
              "32564                           0                         0   \n",
              "32565                           0                         0   \n",
              "\n",
              "       education_bin_e. High  ...  hours_per_week_bin_d. 41-50 & 61-70  \\\n",
              "32561                      0  ...                                    0   \n",
              "32562                      0  ...                                    1   \n",
              "32563                      0  ...                                    0   \n",
              "32564                      0  ...                                    0   \n",
              "32565                      0  ...                                    0   \n",
              "\n",
              "       hours_per_week_bin_e. 51-60  msr_bin_b. Mid  msr_bin_c. High  \\\n",
              "32561                            0               0                0   \n",
              "32562                            0               0                1   \n",
              "32563                            0               0                1   \n",
              "32564                            0               0                1   \n",
              "32565                            0               0                0   \n",
              "\n",
              "       race_sex_bin_b. Mid  race_sex_bin_c. High  occupation_bin_b. Mid - Low  \\\n",
              "32561                    1                     0                            1   \n",
              "32562                    0                     1                            1   \n",
              "32563                    0                     1                            0   \n",
              "32564                    1                     0                            1   \n",
              "32565                    1                     0                            1   \n",
              "\n",
              "       occupation_bin_c. Mid - Mid  occupation_bin_d. Mid - High  \\\n",
              "32561                            0                             0   \n",
              "32562                            0                             0   \n",
              "32563                            0                             1   \n",
              "32564                            0                             0   \n",
              "32565                            0                             0   \n",
              "\n",
              "       occupation_bin_e. High  \n",
              "32561                       0  \n",
              "32562                       0  \n",
              "32563                       0  \n",
              "32564                       0  \n",
              "32565                       0  \n",
              "\n",
              "[5 rows x 22 columns]"
            ],
            "text/html": [
              "\n",
              "  <div id=\"df-e6b20ff6-3c62-47a4-9916-89d44f20ac55\">\n",
              "    <div class=\"colab-df-container\">\n",
              "      <div>\n",
              "<style scoped>\n",
              "    .dataframe tbody tr th:only-of-type {\n",
              "        vertical-align: middle;\n",
              "    }\n",
              "\n",
              "    .dataframe tbody tr th {\n",
              "        vertical-align: top;\n",
              "    }\n",
              "\n",
              "    .dataframe thead th {\n",
              "        text-align: right;\n",
              "    }\n",
              "</style>\n",
              "<table border=\"1\" class=\"dataframe\">\n",
              "  <thead>\n",
              "    <tr style=\"text-align: right;\">\n",
              "      <th></th>\n",
              "      <th>age_bin_b. 26-30 &amp; 71-100</th>\n",
              "      <th>age_bin_c. 31-35 &amp; 61-70</th>\n",
              "      <th>age_bin_d. 36-40 &amp; 56-60</th>\n",
              "      <th>age_bin_e. 40-55</th>\n",
              "      <th>capital_gl_bin_b. _ 0</th>\n",
              "      <th>capital_gl_bin_c. &gt; 0</th>\n",
              "      <th>education_bin_b. Mid</th>\n",
              "      <th>education_bin_c. Bachelors</th>\n",
              "      <th>education_bin_d. Masters</th>\n",
              "      <th>education_bin_e. High</th>\n",
              "      <th>...</th>\n",
              "      <th>hours_per_week_bin_d. 41-50 &amp; 61-70</th>\n",
              "      <th>hours_per_week_bin_e. 51-60</th>\n",
              "      <th>msr_bin_b. Mid</th>\n",
              "      <th>msr_bin_c. High</th>\n",
              "      <th>race_sex_bin_b. Mid</th>\n",
              "      <th>race_sex_bin_c. High</th>\n",
              "      <th>occupation_bin_b. Mid - Low</th>\n",
              "      <th>occupation_bin_c. Mid - Mid</th>\n",
              "      <th>occupation_bin_d. Mid - High</th>\n",
              "      <th>occupation_bin_e. High</th>\n",
              "    </tr>\n",
              "  </thead>\n",
              "  <tbody>\n",
              "    <tr>\n",
              "      <th>32561</th>\n",
              "      <td>0</td>\n",
              "      <td>0</td>\n",
              "      <td>0</td>\n",
              "      <td>0</td>\n",
              "      <td>0</td>\n",
              "      <td>0</td>\n",
              "      <td>0</td>\n",
              "      <td>0</td>\n",
              "      <td>0</td>\n",
              "      <td>0</td>\n",
              "      <td>...</td>\n",
              "      <td>0</td>\n",
              "      <td>0</td>\n",
              "      <td>0</td>\n",
              "      <td>0</td>\n",
              "      <td>1</td>\n",
              "      <td>0</td>\n",
              "      <td>1</td>\n",
              "      <td>0</td>\n",
              "      <td>0</td>\n",
              "      <td>0</td>\n",
              "    </tr>\n",
              "    <tr>\n",
              "      <th>32562</th>\n",
              "      <td>0</td>\n",
              "      <td>0</td>\n",
              "      <td>1</td>\n",
              "      <td>0</td>\n",
              "      <td>0</td>\n",
              "      <td>0</td>\n",
              "      <td>1</td>\n",
              "      <td>0</td>\n",
              "      <td>0</td>\n",
              "      <td>0</td>\n",
              "      <td>...</td>\n",
              "      <td>1</td>\n",
              "      <td>0</td>\n",
              "      <td>0</td>\n",
              "      <td>1</td>\n",
              "      <td>0</td>\n",
              "      <td>1</td>\n",
              "      <td>1</td>\n",
              "      <td>0</td>\n",
              "      <td>0</td>\n",
              "      <td>0</td>\n",
              "    </tr>\n",
              "    <tr>\n",
              "      <th>32563</th>\n",
              "      <td>1</td>\n",
              "      <td>0</td>\n",
              "      <td>0</td>\n",
              "      <td>0</td>\n",
              "      <td>0</td>\n",
              "      <td>0</td>\n",
              "      <td>1</td>\n",
              "      <td>0</td>\n",
              "      <td>0</td>\n",
              "      <td>0</td>\n",
              "      <td>...</td>\n",
              "      <td>0</td>\n",
              "      <td>0</td>\n",
              "      <td>0</td>\n",
              "      <td>1</td>\n",
              "      <td>0</td>\n",
              "      <td>1</td>\n",
              "      <td>0</td>\n",
              "      <td>0</td>\n",
              "      <td>1</td>\n",
              "      <td>0</td>\n",
              "    </tr>\n",
              "    <tr>\n",
              "      <th>32564</th>\n",
              "      <td>0</td>\n",
              "      <td>0</td>\n",
              "      <td>0</td>\n",
              "      <td>1</td>\n",
              "      <td>0</td>\n",
              "      <td>1</td>\n",
              "      <td>1</td>\n",
              "      <td>0</td>\n",
              "      <td>0</td>\n",
              "      <td>0</td>\n",
              "      <td>...</td>\n",
              "      <td>0</td>\n",
              "      <td>0</td>\n",
              "      <td>0</td>\n",
              "      <td>1</td>\n",
              "      <td>1</td>\n",
              "      <td>0</td>\n",
              "      <td>1</td>\n",
              "      <td>0</td>\n",
              "      <td>0</td>\n",
              "      <td>0</td>\n",
              "    </tr>\n",
              "    <tr>\n",
              "      <th>32565</th>\n",
              "      <td>0</td>\n",
              "      <td>0</td>\n",
              "      <td>0</td>\n",
              "      <td>0</td>\n",
              "      <td>0</td>\n",
              "      <td>0</td>\n",
              "      <td>1</td>\n",
              "      <td>0</td>\n",
              "      <td>0</td>\n",
              "      <td>0</td>\n",
              "      <td>...</td>\n",
              "      <td>0</td>\n",
              "      <td>0</td>\n",
              "      <td>0</td>\n",
              "      <td>0</td>\n",
              "      <td>1</td>\n",
              "      <td>0</td>\n",
              "      <td>1</td>\n",
              "      <td>0</td>\n",
              "      <td>0</td>\n",
              "      <td>0</td>\n",
              "    </tr>\n",
              "  </tbody>\n",
              "</table>\n",
              "<p>5 rows × 22 columns</p>\n",
              "</div>\n",
              "      <button class=\"colab-df-convert\" onclick=\"convertToInteractive('df-e6b20ff6-3c62-47a4-9916-89d44f20ac55')\"\n",
              "              title=\"Convert this dataframe to an interactive table.\"\n",
              "              style=\"display:none;\">\n",
              "        \n",
              "  <svg xmlns=\"http://www.w3.org/2000/svg\" height=\"24px\"viewBox=\"0 0 24 24\"\n",
              "       width=\"24px\">\n",
              "    <path d=\"M0 0h24v24H0V0z\" fill=\"none\"/>\n",
              "    <path d=\"M18.56 5.44l.94 2.06.94-2.06 2.06-.94-2.06-.94-.94-2.06-.94 2.06-2.06.94zm-11 1L8.5 8.5l.94-2.06 2.06-.94-2.06-.94L8.5 2.5l-.94 2.06-2.06.94zm10 10l.94 2.06.94-2.06 2.06-.94-2.06-.94-.94-2.06-.94 2.06-2.06.94z\"/><path d=\"M17.41 7.96l-1.37-1.37c-.4-.4-.92-.59-1.43-.59-.52 0-1.04.2-1.43.59L10.3 9.45l-7.72 7.72c-.78.78-.78 2.05 0 2.83L4 21.41c.39.39.9.59 1.41.59.51 0 1.02-.2 1.41-.59l7.78-7.78 2.81-2.81c.8-.78.8-2.07 0-2.86zM5.41 20L4 18.59l7.72-7.72 1.47 1.35L5.41 20z\"/>\n",
              "  </svg>\n",
              "      </button>\n",
              "      \n",
              "  <style>\n",
              "    .colab-df-container {\n",
              "      display:flex;\n",
              "      flex-wrap:wrap;\n",
              "      gap: 12px;\n",
              "    }\n",
              "\n",
              "    .colab-df-convert {\n",
              "      background-color: #E8F0FE;\n",
              "      border: none;\n",
              "      border-radius: 50%;\n",
              "      cursor: pointer;\n",
              "      display: none;\n",
              "      fill: #1967D2;\n",
              "      height: 32px;\n",
              "      padding: 0 0 0 0;\n",
              "      width: 32px;\n",
              "    }\n",
              "\n",
              "    .colab-df-convert:hover {\n",
              "      background-color: #E2EBFA;\n",
              "      box-shadow: 0px 1px 2px rgba(60, 64, 67, 0.3), 0px 1px 3px 1px rgba(60, 64, 67, 0.15);\n",
              "      fill: #174EA6;\n",
              "    }\n",
              "\n",
              "    [theme=dark] .colab-df-convert {\n",
              "      background-color: #3B4455;\n",
              "      fill: #D2E3FC;\n",
              "    }\n",
              "\n",
              "    [theme=dark] .colab-df-convert:hover {\n",
              "      background-color: #434B5C;\n",
              "      box-shadow: 0px 1px 3px 1px rgba(0, 0, 0, 0.15);\n",
              "      filter: drop-shadow(0px 1px 2px rgba(0, 0, 0, 0.3));\n",
              "      fill: #FFFFFF;\n",
              "    }\n",
              "  </style>\n",
              "\n",
              "      <script>\n",
              "        const buttonEl =\n",
              "          document.querySelector('#df-e6b20ff6-3c62-47a4-9916-89d44f20ac55 button.colab-df-convert');\n",
              "        buttonEl.style.display =\n",
              "          google.colab.kernel.accessAllowed ? 'block' : 'none';\n",
              "\n",
              "        async function convertToInteractive(key) {\n",
              "          const element = document.querySelector('#df-e6b20ff6-3c62-47a4-9916-89d44f20ac55');\n",
              "          const dataTable =\n",
              "            await google.colab.kernel.invokeFunction('convertToInteractive',\n",
              "                                                     [key], {});\n",
              "          if (!dataTable) return;\n",
              "\n",
              "          const docLinkHtml = 'Like what you see? Visit the ' +\n",
              "            '<a target=\"_blank\" href=https://colab.research.google.com/notebooks/data_table.ipynb>data table notebook</a>'\n",
              "            + ' to learn more about interactive tables.';\n",
              "          element.innerHTML = '';\n",
              "          dataTable['output_type'] = 'display_data';\n",
              "          await google.colab.output.renderOutput(dataTable, element);\n",
              "          const docLink = document.createElement('div');\n",
              "          docLink.innerHTML = docLinkHtml;\n",
              "          element.appendChild(docLink);\n",
              "        }\n",
              "      </script>\n",
              "    </div>\n",
              "  </div>\n",
              "  "
            ]
          },
          "metadata": {},
          "execution_count": 40
        }
      ]
    },
    {
      "cell_type": "code",
      "source": [
        "#Evaluating the performance of an XGBoost classifier model with different values\n",
        "accuracy_scores = []\n",
        "n_estimator = [50,100,150,200,250,300,350,400,450,500]\n",
        "for values in n_estimator:\n",
        "  xgb_model = XGBClassifier(n_estimators=values, random_state=0)\n",
        "  xgb_model.fit(x_train, y_train)\n",
        "  y_pred = xgb_model.predict(x_test)\n",
        "  accuracy = np.mean(y_test==y_pred)\n",
        "  accuracy_scores.append(accuracy)\n",
        "\n",
        "\n",
        "plt.figure(figsize=(8,4))\n",
        "pd.Series(accuracy_scores, n_estimator).plot(color='darkblue', marker = 'o')"
      ],
      "metadata": {
        "colab": {
          "base_uri": "https://localhost:8080/",
          "height": 282
        },
        "id": "teJ0DkhGbMrR",
        "outputId": "678eb33e-60f6-4562-af11-81189b8c2d65"
      },
      "execution_count": 32,
      "outputs": [
        {
          "output_type": "execute_result",
          "data": {
            "text/plain": [
              "<AxesSubplot:>"
            ]
          },
          "metadata": {},
          "execution_count": 32
        },
        {
          "output_type": "display_data",
          "data": {
            "text/plain": [
              "<Figure size 576x288 with 1 Axes>"
            ],
            "image/png": "[encoded data removed]"
          },
          "metadata": {
            "needs_background": "light"
          }
        }
      ]
    },
    {
      "cell_type": "markdown",
      "source": [
        "The final model shows the most consistency, gradually increasing across different values, where its optimal value is at 400 with a few close competitors."
      ],
      "metadata": {
        "id": "hipESqBx12GK"
      }
    },
    {
      "cell_type": "markdown",
      "source": [
        "# Compare Performance"
      ],
      "metadata": {
        "id": "ZXfWSI-0HnUL"
      }
    },
    {
      "cell_type": "code",
      "source": [
        "#Random Forest Model\n",
        "forest = RandomForestClassifier(random_state = 0, n_estimators = 150)\n",
        "forest.fit(x_train, y_train)\n",
        "y_pred = forest.predict(x_test)\n",
        "forest_accuracy = np.mean(y_test==y_pred)\n",
        "forest_auc=roc_auc_score(y_test, y_pred)\n"
      ],
      "metadata": {
        "id": "93hOLClz4LVh"
      },
      "execution_count": 41,
      "outputs": []
    },
    {
      "cell_type": "code",
      "source": [
        "#AdaBoost Model\n",
        "adaboost = AdaBoostClassifier(random_state =0, n_estimators = 150)\n",
        "adaboost.fit(x_train, y_train)\n",
        "y_pred = adaboost.predict(x_test)\n",
        "adaboost_acc = np.mean(y_test==y_pred)\n",
        "adaboost_auc=roc_auc_score(y_test, y_pred)\n"
      ],
      "metadata": {
        "id": "Vl3lwGNVH-W_"
      },
      "execution_count": 42,
      "outputs": []
    },
    {
      "cell_type": "code",
      "source": [
        "#Gradient Boost Model\n",
        "gboost = GradientBoostingClassifier(random_state =0, n_estimators = 150)\n",
        "gboost.fit(x_train, y_train)\n",
        "y_pred = gboost.predict(x_test)\n",
        "gboost_accuracy = np.mean(y_test==y_pred)\n",
        "gboost_auc=roc_auc_score(y_test, y_pred)"
      ],
      "metadata": {
        "id": "mb5JHNBVIWF4"
      },
      "execution_count": 46,
      "outputs": []
    },
    {
      "cell_type": "code",
      "source": [
        "#XGB Boost Model\n",
        "xgb = XGBClassifier(random_state=0, n_estimators=150)\n",
        "xgb.fit(x_train, y_train)\n",
        "y_pred = xgb.predict(x_test)\n",
        "xgb_accuracy = np.mean(y_test==y_pred)\n",
        "xgb_auc=roc_auc_score(y_test, y_pred)"
      ],
      "metadata": {
        "id": "Qsh9cPe4Il_p"
      },
      "execution_count": 47,
      "outputs": []
    },
    {
      "cell_type": "code",
      "source": [
        "#Dataset creation for organizing and comparing the performance metrics of the above machine learning models\n",
        "comparison = pd.DataFrame({'Random Forest': [forest_accuracy, forest_auc, 150, 0],\n",
        "                   'AdaBoost': [adaboost_acc, adaboost_auc, 150, 0],\n",
        "                   'Gradient Boost': [gboost_accuracy, gboost_auc, 150, 0],\n",
        "                   'XGB': [xgb_accuracy, xgb_auc, 150, 0]},\n",
        "                  index=['Accuracy', 'AUC', 'n_estimators', 'random_state'])"
      ],
      "metadata": {
        "id": "W0AgTlevIwjX"
      },
      "execution_count": 51,
      "outputs": []
    },
    {
      "cell_type": "code",
      "source": [
        "#Here we can see the the comparison between the above models\n",
        "comparison.head()"
      ],
      "metadata": {
        "colab": {
          "base_uri": "https://localhost:8080/",
          "height": 173
        },
        "id": "4Tf0yOUrJHpa",
        "outputId": "1b16c5a2-9190-40e3-da35-5c53108801a6"
      },
      "execution_count": 52,
      "outputs": [
        {
          "output_type": "execute_result",
          "data": {
            "text/plain": [
              "              Random Forest    AdaBoost  Gradient Boost         XGB\n",
              "Accuracy           0.837111    0.845587        0.845894    0.845648\n",
              "AUC                0.743675    0.744824        0.755172    0.751599\n",
              "n_estimators     150.000000  150.000000      150.000000  150.000000\n",
              "random_state       0.000000    0.000000        0.000000    0.000000"
            ],
            "text/html": [
              "\n",
              "  <div id=\"df-079f16f1-c150-4332-a67c-848a4e3dd4c9\">\n",
              "    <div class=\"colab-df-container\">\n",
              "      <div>\n",
              "<style scoped>\n",
              "    .dataframe tbody tr th:only-of-type {\n",
              "        vertical-align: middle;\n",
              "    }\n",
              "\n",
              "    .dataframe tbody tr th {\n",
              "        vertical-align: top;\n",
              "    }\n",
              "\n",
              "    .dataframe thead th {\n",
              "        text-align: right;\n",
              "    }\n",
              "</style>\n",
              "<table border=\"1\" class=\"dataframe\">\n",
              "  <thead>\n",
              "    <tr style=\"text-align: right;\">\n",
              "      <th></th>\n",
              "      <th>Random Forest</th>\n",
              "      <th>AdaBoost</th>\n",
              "      <th>Gradient Boost</th>\n",
              "      <th>XGB</th>\n",
              "    </tr>\n",
              "  </thead>\n",
              "  <tbody>\n",
              "    <tr>\n",
              "      <th>Accuracy</th>\n",
              "      <td>0.837111</td>\n",
              "      <td>0.845587</td>\n",
              "      <td>0.845894</td>\n",
              "      <td>0.845648</td>\n",
              "    </tr>\n",
              "    <tr>\n",
              "      <th>AUC</th>\n",
              "      <td>0.743675</td>\n",
              "      <td>0.744824</td>\n",
              "      <td>0.755172</td>\n",
              "      <td>0.751599</td>\n",
              "    </tr>\n",
              "    <tr>\n",
              "      <th>n_estimators</th>\n",
              "      <td>150.000000</td>\n",
              "      <td>150.000000</td>\n",
              "      <td>150.000000</td>\n",
              "      <td>150.000000</td>\n",
              "    </tr>\n",
              "    <tr>\n",
              "      <th>random_state</th>\n",
              "      <td>0.000000</td>\n",
              "      <td>0.000000</td>\n",
              "      <td>0.000000</td>\n",
              "      <td>0.000000</td>\n",
              "    </tr>\n",
              "  </tbody>\n",
              "</table>\n",
              "</div>\n",
              "      <button class=\"colab-df-convert\" onclick=\"convertToInteractive('df-079f16f1-c150-4332-a67c-848a4e3dd4c9')\"\n",
              "              title=\"Convert this dataframe to an interactive table.\"\n",
              "              style=\"display:none;\">\n",
              "        \n",
              "  <svg xmlns=\"http://www.w3.org/2000/svg\" height=\"24px\"viewBox=\"0 0 24 24\"\n",
              "       width=\"24px\">\n",
              "    <path d=\"M0 0h24v24H0V0z\" fill=\"none\"/>\n",
              "    <path d=\"M18.56 5.44l.94 2.06.94-2.06 2.06-.94-2.06-.94-.94-2.06-.94 2.06-2.06.94zm-11 1L8.5 8.5l.94-2.06 2.06-.94-2.06-.94L8.5 2.5l-.94 2.06-2.06.94zm10 10l.94 2.06.94-2.06 2.06-.94-2.06-.94-.94-2.06-.94 2.06-2.06.94z\"/><path d=\"M17.41 7.96l-1.37-1.37c-.4-.4-.92-.59-1.43-.59-.52 0-1.04.2-1.43.59L10.3 9.45l-7.72 7.72c-.78.78-.78 2.05 0 2.83L4 21.41c.39.39.9.59 1.41.59.51 0 1.02-.2 1.41-.59l7.78-7.78 2.81-2.81c.8-.78.8-2.07 0-2.86zM5.41 20L4 18.59l7.72-7.72 1.47 1.35L5.41 20z\"/>\n",
              "  </svg>\n",
              "      </button>\n",
              "      \n",
              "  <style>\n",
              "    .colab-df-container {\n",
              "      display:flex;\n",
              "      flex-wrap:wrap;\n",
              "      gap: 12px;\n",
              "    }\n",
              "\n",
              "    .colab-df-convert {\n",
              "      background-color: #E8F0FE;\n",
              "      border: none;\n",
              "      border-radius: 50%;\n",
              "      cursor: pointer;\n",
              "      display: none;\n",
              "      fill: #1967D2;\n",
              "      height: 32px;\n",
              "      padding: 0 0 0 0;\n",
              "      width: 32px;\n",
              "    }\n",
              "\n",
              "    .colab-df-convert:hover {\n",
              "      background-color: #E2EBFA;\n",
              "      box-shadow: 0px 1px 2px rgba(60, 64, 67, 0.3), 0px 1px 3px 1px rgba(60, 64, 67, 0.15);\n",
              "      fill: #174EA6;\n",
              "    }\n",
              "\n",
              "    [theme=dark] .colab-df-convert {\n",
              "      background-color: #3B4455;\n",
              "      fill: #D2E3FC;\n",
              "    }\n",
              "\n",
              "    [theme=dark] .colab-df-convert:hover {\n",
              "      background-color: #434B5C;\n",
              "      box-shadow: 0px 1px 3px 1px rgba(0, 0, 0, 0.15);\n",
              "      filter: drop-shadow(0px 1px 2px rgba(0, 0, 0, 0.3));\n",
              "      fill: #FFFFFF;\n",
              "    }\n",
              "  </style>\n",
              "\n",
              "      <script>\n",
              "        const buttonEl =\n",
              "          document.querySelector('#df-079f16f1-c150-4332-a67c-848a4e3dd4c9 button.colab-df-convert');\n",
              "        buttonEl.style.display =\n",
              "          google.colab.kernel.accessAllowed ? 'block' : 'none';\n",
              "\n",
              "        async function convertToInteractive(key) {\n",
              "          const element = document.querySelector('#df-079f16f1-c150-4332-a67c-848a4e3dd4c9');\n",
              "          const dataTable =\n",
              "            await google.colab.kernel.invokeFunction('convertToInteractive',\n",
              "                                                     [key], {});\n",
              "          if (!dataTable) return;\n",
              "\n",
              "          const docLinkHtml = 'Like what you see? Visit the ' +\n",
              "            '<a target=\"_blank\" href=https://colab.research.google.com/notebooks/data_table.ipynb>data table notebook</a>'\n",
              "            + ' to learn more about interactive tables.';\n",
              "          element.innerHTML = '';\n",
              "          dataTable['output_type'] = 'display_data';\n",
              "          await google.colab.output.renderOutput(dataTable, element);\n",
              "          const docLink = document.createElement('div');\n",
              "          docLink.innerHTML = docLinkHtml;\n",
              "          element.appendChild(docLink);\n",
              "        }\n",
              "      </script>\n",
              "    </div>\n",
              "  </div>\n",
              "  "
            ]
          },
          "metadata": {},
          "execution_count": 52
        }
      ]
    }
  ]
}